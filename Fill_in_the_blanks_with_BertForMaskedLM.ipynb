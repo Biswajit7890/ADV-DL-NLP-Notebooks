{
  "nbformat": 4,
  "nbformat_minor": 0,
  "metadata": {
    "colab": {
      "name": "Fill in the blanks with BertForMaskedLM",
      "provenance": []
    },
    "kernelspec": {
      "name": "python3",
      "display_name": "Python 3"
    },
    "language_info": {
      "name": "python"
    }
  },
  "cells": [
    {
      "cell_type": "code",
      "metadata": {
        "id": "75ncE1Rg1ouA"
      },
      "source": [
        "import pandas as pd\n",
        "import numpy as np\n",
        "import matplotlib.pyplot as plt\n",
        "import warnings\n",
        "warnings.filterwarnings('ignore')\n"
      ],
      "execution_count": 4,
      "outputs": []
    },
    {
      "cell_type": "code",
      "metadata": {
        "id": "RdXk3muJ1pOW"
      },
      "source": [
        "!pip install pytorch-pretrained-bert==0.6.2\n",
        "!pip install git+https://github.com/boudinfl/pke.git\n",
        "!pip install flashtext\n",
        "!python -m spacy download en\n",
        "!python -m nltk.downloader universal_tagset"
      ],
      "execution_count": null,
      "outputs": []
    },
    {
      "cell_type": "code",
      "metadata": {
        "colab": {
          "base_uri": "https://localhost:8080/"
        },
        "id": "BG4KbcPf1pUc",
        "outputId": "8580a9e5-23f3-4b1d-e08c-9de97587d7d9"
      },
      "source": [
        "import re\n",
        "import torch\n",
        "from pytorch_pretrained_bert import BertTokenizer,BertForMaskedLM\n",
        "import time\n",
        "start = time.time()\n",
        "tokenizer = BertTokenizer.from_pretrained('bert-base-uncased')\n",
        "model = BertForMaskedLM.from_pretrained('bert-base-uncased')\n",
        "model.eval()\n",
        "end = time.time()\n",
        "print (\"Time Elapsed to load BERT \",end-start)"
      ],
      "execution_count": 5,
      "outputs": [
        {
          "output_type": "stream",
          "text": [
            "100%|██████████| 231508/231508 [00:00<00:00, 905626.02B/s]\n",
            "100%|██████████| 407873900/407873900 [00:10<00:00, 37319225.17B/s]\n"
          ],
          "name": "stderr"
        },
        {
          "output_type": "stream",
          "text": [
            "Time Elapsed to load BERT  22.36511468887329\n"
          ],
          "name": "stdout"
        }
      ]
    },
    {
      "cell_type": "code",
      "metadata": {
        "id": "gRE7TxQW1pX0"
      },
      "source": [
        "def get_predicted_words(text):\n",
        "    text = \"[CLS] \" + text.replace(\"____\", \"[MASK]\") + \" [SEP]\"\n",
        "    tokenized_text = tokenizer.tokenize(text)\n",
        "    masked_index = tokenized_text.index('[MASK]')\n",
        "    indexed_tokens = tokenizer.convert_tokens_to_ids(tokenized_text)\n",
        "    segments_ids = [0] * len(tokenized_text)\n",
        "    tokens_tensor = torch.tensor([indexed_tokens])\n",
        "    segments_tensors = torch.tensor([segments_ids])\n",
        "    with torch.no_grad():\n",
        "        predictions = model(tokens_tensor, segments_tensors)\n",
        "    k = 30\n",
        "    predicted_index, predicted_index_values = torch.topk(predictions[0, masked_index], k)\n",
        "    predicted_tokens = tokenizer.convert_ids_to_tokens(predicted_index_values.tolist())\n",
        "    filtered_tokens_to_remove_punctuation = []\n",
        "    \n",
        "    for token in predicted_tokens:\n",
        "        if re.match(\"^[a-zA-Z0-9_]*$\", token):\n",
        "            filtered_tokens_to_remove_punctuation.append(token)\n",
        "        \n",
        "    return filtered_tokens_to_remove_punctuation"
      ],
      "execution_count": 7,
      "outputs": []
    },
    {
      "cell_type": "code",
      "metadata": {
        "colab": {
          "base_uri": "https://localhost:8080/"
        },
        "id": "ZPEM9OA_1pek",
        "outputId": "555065be-a572-4c97-9a9f-c3922abe100b"
      },
      "source": [
        "sentence = \"i am so fat ____ i cannot\"\n",
        "print (\"original sentence: \",sentence,\"\\n\")\n",
        "predicted_words = get_predicted_words(sentence)\n",
        "print (\"predicted choices: \", predicted_words)"
      ],
      "execution_count": 9,
      "outputs": [
        {
          "output_type": "stream",
          "text": [
            "original sentence:  i am so fat ____ i cannot \n",
            "\n",
            "predicted choices:  ['that', 'and', 'but', 'because', 'when', 'now', 'yet', 'even', 'as', 'so', 'if', 'here', 'for', 'sometimes', 'then', 'where', 'today', 'inside', 'tonight']\n"
          ],
          "name": "stdout"
        }
      ]
    },
    {
      "cell_type": "code",
      "metadata": {
        "colab": {
          "base_uri": "https://localhost:8080/"
        },
        "id": "EonSlACb1piG",
        "outputId": "26c7f12a-6bb5-4af0-d717-b0732de4aca2"
      },
      "source": [
        "file_path = \"sun.txt\" \n",
        "\n",
        "def read_file(file_path):\n",
        "    with open(file_path, 'r') as content_file:\n",
        "        content = content_file.read()\n",
        "        return content\n",
        "    \n",
        "text = read_file(file_path)\n",
        "print(text)\n"
      ],
      "execution_count": 10,
      "outputs": [
        {
          "output_type": "stream",
          "text": [
            "Scientists know many things about the Sun. They know how old it is. The Sun is more than 4 billion years old. That would be too many candles to put on a birthday cake!  They also know the Sun's size. The Sun may seem small, but that is because it is so far away. It is about 93 million miles (150 million kilometers) away from the Earth. The Sun is so large that the diameter of the Sun is 109 times the Earth's diameter. The Sun also weighs as much as 333,000 Earths. The Sun is made up of gases: 75% hydrogen and 25% helium.  Hydrogen is the simplest and lightest of all of the known elements. When you combine hydrogen with oxygen, you get water. You probably know what helium is. It is the gas that can be put into balloons to make them stay in the air and float. Scientists also know the temperature of the Sun. The surface of the Sun is about 10,000 degrees Fahrenheit (5,600 degrees Celsius). That might sound hot, but the Sun's core is even hotter. The core is the central region where the temperature reaches about 27 million degrees Fahrenheit (15 million Celsius). The Sun is the center of our Solar System. Besides the Sun, the Solar System is made up of the planets, moons, asteroid belt, comets, meteors, and other objects. The Earth and other planets revolve around the Sun. The Sun is very important. Without it, there would be only darkness and our planet would be very cold and be without liquid water. Our planet would also be without people, animals, and plants because these things need sunlight and water to live. The Sun also gives out dangerous ultraviolet light which causes sunburn and may cause cancer. That is why you need to be careful of the Sun and wear sunscreen and clothing to protect yourself from its rays. Scientists have learned many things about the Sun. They study the Sun using special tools or instruments such as telescopes. One thing they do is to look at the amount of light from the Sun and the effect of the Sun's light on the Earth's climate. The Sun is actually a star. It is the closest star to the Earth.  Scientists also study other stars, huge balls of glowing gas in the sky. There are over 200 billion stars in the sky. Some are much larger than the Sun and others are smaller than the Earth. They all look tiny because they are so far away from the Earth. This distance is measured in light-years, not in miles or kilometers. One light-year is equal to the distance that light travels in one year. This is about six trillion miles or ten trillion kilometers!  Stars look like they are twinkling because when we see them, we are looking at them through thick layers of turbulent (moving) air in the Earth's atmosphere. That is why the words are written in the song: Twinkle, Twinkle, Little Star. Stars have lifetimes of billions of years. They are held together by their own gravity. Over half of the stars in the sky are in groups of two. They orbit around the same center point and across from each other. There are also larger groups of stars called clusters. These clusters of stars make up galaxies. Our Solar System is located in the Milky Way Galaxy. \n"
          ],
          "name": "stdout"
        }
      ]
    },
    {
      "cell_type": "code",
      "metadata": {
        "colab": {
          "base_uri": "https://localhost:8080/"
        },
        "id": "u7ZbfWnq1plc",
        "outputId": "375e6144-61c9-405a-b7ef-3e1926c3699c"
      },
      "source": [
        "#  We will extract some adpositions. An adposition is a cover term for prepositions and postpositions.\n",
        "import pke\n",
        "import string\n",
        "\n",
        "\n",
        "def get_adpositions_multipartite(text):\n",
        "    out=[]\n",
        "\n",
        "    extractor = pke.unsupervised.MultipartiteRank()\n",
        "    extractor.load_document(input=text)\n",
        "    pos = {'ADP'} \n",
        "    stoplist = list(string.punctuation)\n",
        "    stoplist += ['-lrb-', '-rrb-', '-lcb-', '-rcb-', '-lsb-', '-rsb-']\n",
        "    extractor.candidate_selection(pos=pos, stoplist=stoplist)\n",
        "    extractor.candidate_weighting(alpha=1.1,threshold=0.75,method='average')\n",
        "    keyphrases = extractor.get_n_best(n=10)\n",
        "    for key in keyphrases:\n",
        "        out.append(key[0])\n",
        "    return out\n",
        "adpositions = get_adpositions_multipartite(text)\n",
        "print (\"Adpositions from the text: \",adpositions)"
      ],
      "execution_count": 19,
      "outputs": [
        {
          "output_type": "stream",
          "text": [
            "[('from', 0.19093882002737322), ('without', 0.14011457301844113), ('around', 0.1351766209398164), ('about', 0.0977403268953759), ('up of', 0.08715105891647905), ('over', 0.08225340594374793), ('out', 0.0680767762519501), ('across from', 0.05676373409692328), ('with', 0.052306613832667145), ('into', 0.04968229545441503)]\n",
            "Adpositions from the text:  ['from', 'without', 'around', 'about', 'up of', 'over', 'out', 'across from', 'with', 'into']\n"
          ],
          "name": "stdout"
        }
      ]
    },
    {
      "cell_type": "code",
      "metadata": {
        "colab": {
          "base_uri": "https://localhost:8080/"
        },
        "id": "_DdWab0X1pzc",
        "outputId": "72ed9498-41d3-49fb-fa83-076a4d6c9d75"
      },
      "source": [
        "from nltk.tokenize import sent_tokenize\n",
        "import nltk\n",
        "nltk.download('punkt')\n",
        "from flashtext import KeywordProcessor\n",
        "\n",
        "\n",
        "def tokenize_sentences(text):\n",
        "    sentences = [sent_tokenize(text)]\n",
        "    sentences = [y for x in sentences for y in x]\n",
        "    # Remove any short sentences less than 20 letters.\n",
        "    sentences = [sentence.strip() for sentence in sentences if len(sentence) > 20]\n",
        "    return sentences\n",
        "sentences = tokenize_sentences(text)\n",
        "\n",
        "\n",
        "def get_sentences_for_keyword(keywords, sentences):\n",
        "    keyword_processor = KeywordProcessor()\n",
        "    keyword_sentences = {}\n",
        "    for word in keywords:\n",
        "        keyword_sentences[word] = []\n",
        "        keyword_processor.add_keyword(word)\n",
        "    for sentence in sentences:\n",
        "        keywords_found = keyword_processor.extract_keywords(sentence)\n",
        "        for key in keywords_found:\n",
        "            keyword_sentences[key].append(sentence)\n",
        "\n",
        "    for key in keyword_sentences.keys():\n",
        "        values = keyword_sentences[key]\n",
        "        values = sorted(values, key=len, reverse=True)\n",
        "        keyword_sentences[key] = values\n",
        "    return keyword_sentences\n",
        "\n",
        "keyword_sentence_mapping_adpos = get_sentences_for_keyword(adpositions, sentences)\n",
        "\n",
        "for word in keyword_sentence_mapping_adpos:\n",
        "    print (word, \" : \",keyword_sentence_mapping_adpos[word],\"\\n\")\n"
      ],
      "execution_count": 21,
      "outputs": [
        {
          "output_type": "stream",
          "text": [
            "[nltk_data] Downloading package punkt to /root/nltk_data...\n",
            "[nltk_data]   Package punkt is already up-to-date!\n",
            "from  :  [\"One thing they do is to look at the amount of light from the Sun and the effect of the Sun's light on the Earth's climate.\", 'That is why you need to be careful of the Sun and wear sunscreen and clothing to protect yourself from its rays.', 'It is about 93 million miles (150 million kilometers) away from the Earth.', 'They all look tiny because they are so far away from the Earth.'] \n",
            "\n",
            "without  :  ['Our planet would also be without people, animals, and plants because these things need sunlight and water to live.', 'Without it, there would be only darkness and our planet would be very cold and be without liquid water.', 'Without it, there would be only darkness and our planet would be very cold and be without liquid water.'] \n",
            "\n",
            "around  :  ['They orbit around the same center point and across from each other.', 'The Earth and other planets revolve around the Sun.'] \n",
            "\n",
            "about  :  ['The core is the central region where the temperature reaches about 27 million degrees Fahrenheit (15 million Celsius).', 'The surface of the Sun is about 10,000 degrees Fahrenheit (5,600 degrees Celsius).', 'It is about 93 million miles (150 million kilometers) away from the Earth.', 'This is about six trillion miles or ten trillion kilometers!', 'Scientists have learned many things about the Sun.', 'Scientists know many things about the Sun.'] \n",
            "\n",
            "up of  :  ['Besides the Sun, the Solar System is made up of the planets, moons, asteroid belt, comets, meteors, and other objects.', 'The Sun is made up of gases: 75% hydrogen and 25% helium.'] \n",
            "\n",
            "over  :  ['Over half of the stars in the sky are in groups of two.', 'There are over 200 billion stars in the sky.'] \n",
            "\n",
            "out  :  ['The Sun also gives out dangerous ultraviolet light which causes sunburn and may cause cancer.'] \n",
            "\n",
            "across from  :  ['They orbit around the same center point and across from each other.'] \n",
            "\n",
            "with  :  ['When you combine hydrogen with oxygen, you get water.'] \n",
            "\n",
            "into  :  ['It is the gas that can be put into balloons to make them stay in the air and float.'] \n",
            "\n"
          ],
          "name": "stdout"
        }
      ]
    },
    {
      "cell_type": "code",
      "metadata": {
        "colab": {
          "base_uri": "https://localhost:8080/"
        },
        "id": "lNFEhpTp1p3H",
        "outputId": "b326bccb-ef87-49a7-8e40-a925d18ecfc2"
      },
      "source": [
        "def get_best_sentence_and_options(word, sentences_array):\n",
        "    keyword = word\n",
        "    sentences = sentences_array\n",
        "    sentences = sorted(sentences, key=len, reverse=False)\n",
        "    max_no = min(5, len(sentences))\n",
        "    sentences = sentences[:max_no]\n",
        "    choices_filtered = []\n",
        "    ordered_sentences = []\n",
        "    for sentence in sentences:\n",
        "        insensitive_line = re.compile(re.escape(keyword), re.IGNORECASE)\n",
        "        no_of_replacements =  len(re.findall(re.escape(keyword),sentence,re.IGNORECASE))\n",
        "        blanked_sentence = insensitive_line.sub(\"____\", sentence)\n",
        "        blanks = get_predicted_words(blanked_sentence)\n",
        "\n",
        "        if blanks is not None:\n",
        "            choices_filtered = blanks\n",
        "            try:\n",
        "                word_index = choices_filtered.index(keyword.lower())\n",
        "                if no_of_replacements<2:\n",
        "                    ordered_sentences.append((blanked_sentence, choices_filtered, word_index))\n",
        "            except:\n",
        "                pass\n",
        "\n",
        "    ordered_sentences = sorted(ordered_sentences, key=lambda x: x[2])\n",
        "    if len(ordered_sentences) > 0:\n",
        "        return (ordered_sentences[0][0], ordered_sentences[0][1])\n",
        "    else:\n",
        "        return None, None\n",
        "    \n",
        "for each_adpos in adpositions:\n",
        "    sentence, best_options = get_best_sentence_and_options(each_adpos, keyword_sentence_mapping_adpos[each_adpos])\n",
        "    print (sentence)\n",
        "    print (best_options)\n",
        "    print (\"\\n\\n\")"
      ],
      "execution_count": 22,
      "outputs": [
        {
          "output_type": "stream",
          "text": [
            "They all look tiny because they are so far away ____ the Earth.\n",
            "['from', 'on', 'in', 'off', 'beneath', 'to', 'above', 'under', 'than', 'underneath', 'below', 'into', 'with', 'across', 'over', 'behind', 'of', 'by', 'near', 'form', 'inside', 'like', 'at', 'and', 'toward', 'down', 'towards', 'for', 'within']\n",
            "\n",
            "\n",
            "\n",
            "Our planet would also be ____ people, animals, and plants because these things need sunlight and water to live.\n",
            "['without', 'for', 'producing', 'eating', 'like', 'missing', 'of', 'having', 'with', 'lacking', 'around', 'losing', 'barren', 'killing', 'protecting', 'mostly', 'containing', 'including', 'about', 'farming', 'raining', 'all', 'saving', 'destroying', 'mainly', 'growing', 'rich', 'just', 'supporting', 'housing']\n",
            "\n",
            "\n",
            "\n",
            "The Earth and other planets revolve ____ the Sun.\n",
            "['around', 'round', 'near', 'about', 'along', 'under', 'surrounding', 'on', 'in', 'above', 'within', 'at', 'outside', 'over', 'below', 'beneath', 'by', 'of', 'toward', 'towards', 'inside', 'surrounded', 'upon', 'underneath', 'circling', 'with', 'before', 'against', 'from', 'beside']\n",
            "\n",
            "\n",
            "\n",
            "Scientists know many things ____ the Sun.\n",
            "['about', 'of', 'like', 'concerning', 'on', 'regarding', 'around', 'from', 'in', 'under', 'beyond', 'involving', 'with', 'for', 'besides', 'over', 'surrounding', 'to', 'as', 'through', 'including', 'at', 'and', 'by', 'than', 'except']\n",
            "\n",
            "\n",
            "\n",
            "None\n",
            "None\n",
            "\n",
            "\n",
            "\n",
            "There are ____ 200 billion stars in the sky.\n",
            "['over', 'about', 'approximately', 'around', 'nearly', 'roughly', 'some', 'almost', 'currently', 'now', 'also', 'probably', 'estimated', 'near', 'only', 'possibly', 'perhaps', 'another', 'actually', 'literally', 'exactly', 'a', 'many', 'still', 'already', 'maybe', 'circa', 'reportedly', 'potentially']\n",
            "\n",
            "\n",
            "\n",
            "The Sun also gives ____ dangerous ultraviolet light which causes sunburn and may cause cancer.\n",
            "['off', 'a', 'some', 'them', 'out', 'away', 'people', 'up', 'the', 'potentially', 'it', 'very', 'you', 'extremely', 'in', 'many', 'more', 'him', 'much', 'on', 'uv', 'into', 'humans', 'to', 'about', 'one', 'this', 'us', 'highly', 'for']\n",
            "\n",
            "\n",
            "\n",
            "None\n",
            "None\n",
            "\n",
            "\n",
            "\n",
            "When you combine hydrogen ____ oxygen, you get water.\n",
            "['with', 'and', 'into', 'to', 'or', 'for', 'in', 'from', 'against', 'by', 'plus', 'as', 'but', 'of', 'through', 'without', 'versus', 'on', 'then', 'over', 'using', 'via']\n",
            "\n",
            "\n",
            "\n",
            "It is the gas that can be put ____ balloons to make them stay in the air and float.\n",
            "['into', 'in', 'on', 'inside', 'onto', 'to', 'through', 'between', 'within', 'around', 'up', 'behind', 'down', 'aboard', 'over', 'against', 'by', 'off', 'with', 'outside', 'under', 'before', 'upon', 'out', 'from', 'throughout', 'for', 'across', 'about', 'underneath']\n",
            "\n",
            "\n",
            "\n"
          ],
          "name": "stdout"
        }
      ]
    },
    {
      "cell_type": "code",
      "metadata": {
        "id": "zUlNHLJN1p6Y"
      },
      "source": [
        ""
      ],
      "execution_count": null,
      "outputs": []
    },
    {
      "cell_type": "code",
      "metadata": {
        "id": "JdHNRQaX1qAL"
      },
      "source": [
        ""
      ],
      "execution_count": null,
      "outputs": []
    }
  ]
}