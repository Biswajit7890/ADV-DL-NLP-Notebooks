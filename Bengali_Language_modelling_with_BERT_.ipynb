{
  "nbformat": 4,
  "nbformat_minor": 0,
  "metadata": {
    "colab": {
      "name": "Bengali Language modelling with BERT .ipynb",
      "provenance": [],
      "collapsed_sections": []
    },
    "kernelspec": {
      "name": "python3",
      "display_name": "Python 3"
    },
    "language_info": {
      "name": "python"
    },
    "accelerator": "GPU"
  },
  "cells": [
    {
      "cell_type": "code",
      "metadata": {
        "id": "9b5Pc9hdycpx"
      },
      "source": [
        "import pandas as pd\n",
        "import numpy as np\n",
        "import matplotlib.pyplot as plt \n",
        "import warnings\n",
        "warnings.filterwarnings('ignore')"
      ],
      "execution_count": 3,
      "outputs": []
    },
    {
      "cell_type": "code",
      "metadata": {
        "colab": {
          "base_uri": "https://localhost:8080/"
        },
        "id": "dbSkSTG6TTCl",
        "outputId": "52ed865e-5028-413e-c469-72a63ce639cf"
      },
      "source": [
        "from transformers import BertTokenizer, LineByLineTextDataset\n",
        "\n",
        "vocab_file_dir = '/content/bangla-vocab.txt' \n",
        "\n",
        "tokenizer = BertTokenizer.from_pretrained(vocab_file_dir)\n",
        "\n",
        "sentence = 'শেষ দিকে সেনাবাহিনীর সদস্যরা এসব ঘর তাঁর প্রশাসনের কাছে হস্তান্তর করেন'\n",
        "\n",
        "encoded_input = tokenizer.tokenize(sentence)\n",
        "print(encoded_input)"
      ],
      "execution_count": 4,
      "outputs": [
        {
          "output_type": "stream",
          "text": [
            "['শেষ', 'দিকে', 'সেনাবাহিনীর', 'সদসযরা', 'এসব', 'ঘর', 'তার', 'পরশাসনের', 'কাছে', 'হসতানতর', 'করেন']\n"
          ],
          "name": "stdout"
        }
      ]
    },
    {
      "cell_type": "code",
      "metadata": {
        "colab": {
          "base_uri": "https://localhost:8080/"
        },
        "id": "ZKCvHoozTTGU",
        "outputId": "ca767201-3e34-4f97-d671-194fd9644af7"
      },
      "source": [
        "dataset= LineByLineTextDataset(tokenizer = tokenizer,file_path = '/content/raw_bangla_for_BERT.txt',block_size = 128 )\n",
        "\n",
        "print('No. of lines: ', len(dataset))"
      ],
      "execution_count": 5,
      "outputs": [
        {
          "output_type": "stream",
          "text": [
            "No. of lines:  86518\n"
          ],
          "name": "stdout"
        }
      ]
    },
    {
      "cell_type": "code",
      "metadata": {
        "colab": {
          "base_uri": "https://localhost:8080/"
        },
        "id": "IFmPKdfqTTJ1",
        "outputId": "122d233c-0012-46b4-b850-752828ed348d"
      },
      "source": [
        "from transformers import BertConfig, BertForMaskedLM, DataCollatorForLanguageModeling\n",
        "\n",
        "config = BertConfig(vocab_size=50000,hidden_size=768,num_hidden_layers=6,num_attention_heads=12,max_position_embeddings=512)\n",
        " \n",
        "model = BertForMaskedLM(config)\n",
        "print('No of parameters: ', model.num_parameters())\n",
        "\n",
        "\n",
        "data_collator = DataCollatorForLanguageModeling(tokenizer=tokenizer, mlm=True, mlm_probability=0.15)"
      ],
      "execution_count": 6,
      "outputs": [
        {
          "output_type": "stream",
          "text": [
            "No of parameters:  81965648\n"
          ],
          "name": "stdout"
        }
      ]
    },
    {
      "cell_type": "code",
      "metadata": {
        "id": "cfhnuNQwTTQn"
      },
      "source": [
        "from transformers import Trainer, TrainingArguments\n",
        "\n",
        "training_args = TrainingArguments(output_dir='/content/bert_output',overwrite_output_dir=True,num_train_epochs=1,per_device_train_batch_size=32,\n",
        "save_steps=10_000,save_total_limit=2)"
      ],
      "execution_count": 7,
      "outputs": []
    },
    {
      "cell_type": "code",
      "metadata": {
        "id": "fICRSc6rTTUV"
      },
      "source": [
        "trainer = Trainer(model=model,args=training_args,data_collator=data_collator,train_dataset=dataset)"
      ],
      "execution_count": 10,
      "outputs": []
    },
    {
      "cell_type": "code",
      "metadata": {
        "colab": {
          "base_uri": "https://localhost:8080/",
          "height": 224
        },
        "id": "PyE1DUX1TTYH",
        "outputId": "0cea6254-f3fe-4ca2-862a-383277634335"
      },
      "source": [
        "trainer.train()\n",
        "trainer.save_model('/content/model_save')"
      ],
      "execution_count": 11,
      "outputs": [
        {
          "output_type": "display_data",
          "data": {
            "text/html": [
              "\n",
              "    <div>\n",
              "        <style>\n",
              "            /* Turns off some styling */\n",
              "            progress {\n",
              "                /* gets rid of default border in Firefox and Opera. */\n",
              "                border: none;\n",
              "                /* Needs to be in here for Safari polyfill so background images work as expected. */\n",
              "                background-size: auto;\n",
              "            }\n",
              "        </style>\n",
              "      \n",
              "      <progress value='2704' max='2704' style='width:300px; height:20px; vertical-align: middle;'></progress>\n",
              "      [2704/2704 13:55, Epoch 1/1]\n",
              "    </div>\n",
              "    <table border=\"1\" class=\"dataframe\">\n",
              "  <thead>\n",
              "    <tr style=\"text-align: left;\">\n",
              "      <th>Step</th>\n",
              "      <th>Training Loss</th>\n",
              "    </tr>\n",
              "  </thead>\n",
              "  <tbody>\n",
              "    <tr>\n",
              "      <td>500</td>\n",
              "      <td>4.771900</td>\n",
              "    </tr>\n",
              "    <tr>\n",
              "      <td>1000</td>\n",
              "      <td>3.077000</td>\n",
              "    </tr>\n",
              "    <tr>\n",
              "      <td>1500</td>\n",
              "      <td>2.981500</td>\n",
              "    </tr>\n",
              "    <tr>\n",
              "      <td>2000</td>\n",
              "      <td>2.839200</td>\n",
              "    </tr>\n",
              "    <tr>\n",
              "      <td>2500</td>\n",
              "      <td>2.902900</td>\n",
              "    </tr>\n",
              "  </tbody>\n",
              "</table><p>"
            ],
            "text/plain": [
              "<IPython.core.display.HTML object>"
            ]
          },
          "metadata": {
            "tags": []
          }
        }
      ]
    },
    {
      "cell_type": "code",
      "metadata": {
        "id": "6zmSVqARTTbk"
      },
      "source": [
        "from transformers import pipeline\n",
        "\n",
        "model = BertForMaskedLM.from_pretrained('/content/model_save')\n",
        "\n",
        "fill_mask = pipeline(\"fill-mask\",model=model,tokenizer=tokenizer)\n",
        "\n"
      ],
      "execution_count": 12,
      "outputs": []
    },
    {
      "cell_type": "code",
      "metadata": {
        "colab": {
          "base_uri": "https://localhost:8080/"
        },
        "id": "7VZjCf9bTTe2",
        "outputId": "534ec81d-7a31-4b99-e1b4-305a873eb5e7"
      },
      "source": [
        "fill_mask('লাশ উদ্ধার করে ময়নাতদন্তের জন্য কক্সবাজার [MASK] মর্গে পাঠিয়েছে পুলিশ')"
      ],
      "execution_count": 13,
      "outputs": [
        {
          "output_type": "execute_result",
          "data": {
            "text/plain": [
              "[{'score': 0.03529264032840729,\n",
              "  'sequence': 'লাশ উদধার করে মযনাতদনতের জনয ককসবাজার বলে মরগে পাঠিযেছে পলিশ',\n",
              "  'token': 614,\n",
              "  'token_str': 'ব ল ে'},\n",
              " {'score': 0.030674153938889503,\n",
              "  'sequence': 'লাশ উদধার করে মযনাতদনতের জনয ককসবাজার করা মরগে পাঠিযেছে পলিশ',\n",
              "  'token': 604,\n",
              "  'token_str': 'ক র া'},\n",
              " {'score': 0.01854892447590828,\n",
              "  'sequence': 'লাশ উদধার করে মযনাতদনতের জনয ককসবাজার করে মরগে পাঠিযেছে পলিশ',\n",
              "  'token': 542,\n",
              "  'token_str': 'ক র ে'},\n",
              " {'score': 0.013584140688180923,\n",
              "  'sequence': 'লাশ উদধার করে মযনাতদনতের জনয ককসবাজার গরেপতার মরগে পাঠিযেছে পলিশ',\n",
              "  'token': 1448,\n",
              "  'token_str': 'গ র ে প ত া র'},\n",
              " {'score': 0.013577913865447044,\n",
              "  'sequence': 'লাশ উদধার করে মযনাতদনতের জনয ককসবাজার হতযা মরগে পাঠিযেছে পলিশ',\n",
              "  'token': 1249,\n",
              "  'token_str': 'হ ত য া'}]"
            ]
          },
          "metadata": {
            "tags": []
          },
          "execution_count": 13
        }
      ]
    },
    {
      "cell_type": "code",
      "metadata": {
        "colab": {
          "base_uri": "https://localhost:8080/"
        },
        "id": "TwzOjVIJTTil",
        "outputId": "1ae2a84d-f1dc-48d2-d4c8-87b298c4b070"
      },
      "source": [
        "fill_mask('১৯৭১ সালে বাংলাদেশ ৯ মাস মুক্তিযুদ্ধ করে [MASK] অর্জন করে')"
      ],
      "execution_count": 14,
      "outputs": [
        {
          "output_type": "execute_result",
          "data": {
            "text/plain": [
              "[{'score': 0.016238635405898094,\n",
              "  'sequence': '১৯৭১ সালে বাংলাদেশ ৯ মাস মকতিযদধ করে বলে অরজন করে',\n",
              "  'token': 614,\n",
              "  'token_str': 'ব ল ে'},\n",
              " {'score': 0.01370514277368784,\n",
              "  'sequence': '১৯৭১ সালে বাংলাদেশ ৯ মাস মকতিযদধ করে ও অরজন করে',\n",
              "  'token': 126,\n",
              "  'token_str': 'ও'},\n",
              " {'score': 0.012568416073918343,\n",
              "  'sequence': '১৯৭১ সালে বাংলাদেশ ৯ মাস মকতিযদধ করে করে অরজন করে',\n",
              "  'token': 542,\n",
              "  'token_str': 'ক র ে'},\n",
              " {'score': 0.008793245069682598,\n",
              "  'sequence': '১৯৭১ সালে বাংলাদেশ ৯ মাস মকতিযদধ করে করা অরজন করে',\n",
              "  'token': 604,\n",
              "  'token_str': 'ক র া'},\n",
              " {'score': 0.008591611869633198,\n",
              "  'sequence': '১৯৭১ সালে বাংলাদেশ ৯ মাস মকতিযদধ করে থেকে অরজন করে',\n",
              "  'token': 586,\n",
              "  'token_str': 'থ ে ক ে'}]"
            ]
          },
          "metadata": {
            "tags": []
          },
          "execution_count": 14
        }
      ]
    },
    {
      "cell_type": "code",
      "metadata": {
        "id": "4Q73KUZgTTqN"
      },
      "source": [
        ""
      ],
      "execution_count": null,
      "outputs": []
    },
    {
      "cell_type": "code",
      "metadata": {
        "id": "o73nIkwTTTuE"
      },
      "source": [
        ""
      ],
      "execution_count": null,
      "outputs": []
    },
    {
      "cell_type": "code",
      "metadata": {
        "id": "dlou1jReTTyV"
      },
      "source": [
        ""
      ],
      "execution_count": null,
      "outputs": []
    },
    {
      "cell_type": "code",
      "metadata": {
        "id": "hd7Dz5PZKC5d"
      },
      "source": [
        ""
      ],
      "execution_count": null,
      "outputs": []
    },
    {
      "cell_type": "code",
      "metadata": {
        "id": "QOn0yGehKC88"
      },
      "source": [
        ""
      ],
      "execution_count": null,
      "outputs": []
    }
  ]
}