{
  "nbformat": 4,
  "nbformat_minor": 0,
  "metadata": {
    "colab": {
      "name": "Next word prediction with Berttokenizer.ipynb",
      "provenance": [],
      "collapsed_sections": []
    },
    "kernelspec": {
      "name": "python3",
      "display_name": "Python 3"
    },
    "language_info": {
      "name": "python"
    }
  },
  "cells": [
    {
      "cell_type": "code",
      "metadata": {
        "id": "RBD_4DAO4bEB"
      },
      "source": [
        "import  pandas as pd\n",
        "import numpy as np\n",
        "import matplotlib.pyplot as plt\n",
        "import seaborn as sns\n",
        "import warnings\n",
        "from transformers import BertTokenizer, BertForMaskedLM\n",
        "import torch\n",
        "import string"
      ],
      "execution_count": 23,
      "outputs": []
    },
    {
      "cell_type": "code",
      "metadata": {
        "id": "I4OCrjryEWoS"
      },
      "source": [
        "def load_model(model_name):\n",
        "    if model_name.lower() == \"bert\":\n",
        "      bert_tokenizer = BertTokenizer.from_pretrained('bert-base-uncased')\n",
        "      bert_model = BertForMaskedLM.from_pretrained('bert-base-uncased').eval()\n",
        "      return bert_tokenizer,bert_model"
      ],
      "execution_count": 24,
      "outputs": []
    },
    {
      "cell_type": "code",
      "metadata": {
        "id": "5bxsIWiWE9n4"
      },
      "source": [
        "def get_prediction_eos(input_text):\n",
        "    input_text += ' <mask>'\n",
        "    res = get_all_predictions(input_text, top_clean=int(top_k))\n",
        "    return res"
      ],
      "execution_count": 25,
      "outputs": []
    },
    {
      "cell_type": "code",
      "metadata": {
        "id": "SUbxLWO1EWr0"
      },
      "source": [
        "def encode(tokenizer, text_sentence, add_special_tokens=True):\n",
        "    text_sentence = text_sentence.replace('<mask>', tokenizer.mask_token)\n",
        "    if tokenizer.mask_token == text_sentence.split()[-1]:\n",
        "      text_sentence += ' .'\n",
        "      input_ids = torch.tensor([tokenizer.encode(text_sentence, add_special_tokens=add_special_tokens)])\n",
        "      mask_idx = torch.where(input_ids == tokenizer.mask_token_id)[1].tolist()[0]\n",
        "    return input_ids, mask_idx"
      ],
      "execution_count": 26,
      "outputs": []
    },
    {
      "cell_type": "code",
      "metadata": {
        "id": "pDFDhSl1GjeE"
      },
      "source": [
        "def decode(tokenizer, pred_idx, top_clean):\n",
        "    ignore_tokens = string.punctuation + '[PAD]'\n",
        "    tokens = []\n",
        "    for w in pred_idx:\n",
        "       token = ''.join(tokenizer.decode(w).split())\n",
        "       if token not in ignore_tokens:\n",
        "          tokens.append(token.replace('##', ''))\n",
        "    return '\\n'.join(tokens[:top_clean])"
      ],
      "execution_count": 28,
      "outputs": []
    },
    {
      "cell_type": "code",
      "metadata": {
        "id": "ywHvzn5QGj8m"
      },
      "source": [
        "def get_all_predictions(text_sentence, top_clean):\n",
        "    input_ids, mask_idx = encode(bert_tokenizer, text_sentence)\n",
        "    with torch.no_grad():\n",
        "        predict = bert_model(input_ids)[0]\n",
        "    bert = decode(bert_tokenizer, predict[0, mask_idx, :].topk(top_k).indices.tolist(), top_clean)\n",
        "    return {'bert': bert}    "
      ],
      "execution_count": 35,
      "outputs": []
    },
    {
      "cell_type": "code",
      "metadata": {
        "colab": {
          "base_uri": "https://localhost:8080/"
        },
        "id": "5ly7ZOe9GkAQ",
        "outputId": "6c193738-d430-4b69-b68a-c2a1076bc111"
      },
      "source": [
        "top_k=5\n",
        "model_name='BERT'\n",
        "bert_tokenizer, bert_model  = load_model(model_name)\n",
        "input_text=\"Fuck me\"\n",
        "res = get_prediction_eos(input_text)\n",
        "answer = []\n",
        "print(res['bert'].split(\"\\n\"))\n",
        "for i in res['bert'].split(\"\\n\"):\n",
        "    answer.append(i)\n",
        "answer_as_string = \"    \".join(answer)\n",
        "print(\"Predicted List is Here\",answer_as_string )   "
      ],
      "execution_count": 36,
      "outputs": [
        {
          "output_type": "stream",
          "text": [
            "Some weights of the model checkpoint at bert-base-uncased were not used when initializing BertForMaskedLM: ['cls.seq_relationship.weight', 'cls.seq_relationship.bias']\n",
            "- This IS expected if you are initializing BertForMaskedLM from the checkpoint of a model trained on another task or with another architecture (e.g. initializing a BertForSequenceClassification model from a BertForPreTraining model).\n",
            "- This IS NOT expected if you are initializing BertForMaskedLM from the checkpoint of a model that you expect to be exactly identical (initializing a BertForSequenceClassification model from a BertForSequenceClassification model).\n"
          ],
          "name": "stderr"
        },
        {
          "output_type": "stream",
          "text": [
            "['now', 'tonight', 'again', 'hard', 'then']\n",
            "Predicted List is Here now    tonight    again    hard    then\n"
          ],
          "name": "stdout"
        }
      ]
    },
    {
      "cell_type": "code",
      "metadata": {
        "id": "zG4yTFHeGkDt"
      },
      "source": [
        ""
      ],
      "execution_count": null,
      "outputs": []
    },
    {
      "cell_type": "code",
      "metadata": {
        "id": "9c8D2lnMGkHF"
      },
      "source": [
        ""
      ],
      "execution_count": null,
      "outputs": []
    },
    {
      "cell_type": "code",
      "metadata": {
        "id": "DKE7glXMEWvm"
      },
      "source": [
        ""
      ],
      "execution_count": null,
      "outputs": []
    },
    {
      "cell_type": "code",
      "metadata": {
        "id": "LRez8-QbEWzN"
      },
      "source": [
        ""
      ],
      "execution_count": null,
      "outputs": []
    }
  ]
}